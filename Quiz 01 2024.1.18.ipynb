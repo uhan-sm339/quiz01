{
 "cells": [
  {
   "cell_type": "markdown",
   "id": "20542d24-4dd5-43b7-9f4e-938c51a70d81",
   "metadata": {
    "deletable": false,
    "editable": false,
    "slideshow": {
     "slide_type": ""
    },
    "tags": []
   },
   "source": [
    "**SM339 &#x25aa; Applied Statistics &#x25aa; Spring 2024 &#x25aa; Uhan**"
   ]
  },
  {
   "cell_type": "markdown",
   "id": "3a72792a-aec3-4065-9d56-88ed28df2598",
   "metadata": {
    "deletable": false,
    "editable": false,
    "slideshow": {
     "slide_type": ""
    },
    "tags": []
   },
   "source": [
    "# Quiz 1 &mdash; 1/18/2024"
   ]
  },
  {
   "cell_type": "markdown",
   "id": "206840bf-d41c-4ce1-a0de-4051888970d5",
   "metadata": {
    "deletable": false,
    "editable": false,
    "jp-MarkdownHeadingCollapsed": true,
    "slideshow": {
     "slide_type": ""
    },
    "tags": []
   },
   "source": [
    "## Instructions\n",
    "\n",
    "This take-home quiz is due on __Thursday, January 18 at 23:59__.\n",
    "\n",
    "You may use your own course materials, as well as any materials directly linked from the course website. __No collaboration allowed.__\n",
    "\n",
    "Type your answers __directly in this Jupyter notebook__, and submit this notebook (just the `ipynb` file) using the submission form on the [course website](https://courses.uhan.me/sm339/)."
   ]
  },
  {
   "cell_type": "markdown",
   "id": "df58da9e-3047-4ccb-b287-b6095b8c26cf",
   "metadata": {
    "deletable": false,
    "editable": false,
    "slideshow": {
     "slide_type": ""
    },
    "tags": []
   },
   "source": [
    "## Problem 1\n",
    "\n",
    "Suppose $X$ has a $t$-distribution with 13 degrees of freedom.\n",
    "\n",
    "Write R code to compute the following."
   ]
  },
  {
   "cell_type": "markdown",
   "id": "3939d411-4e6a-4ed6-ad70-8b0ba284279e",
   "metadata": {
    "deletable": false,
    "editable": false,
    "slideshow": {
     "slide_type": ""
    },
    "tags": []
   },
   "source": [
    "### a. \n",
    "\n",
    "$P(X \\le 0.64)$"
   ]
  },
  {
   "cell_type": "code",
   "execution_count": null,
   "id": "216444ba-52b9-478b-aba4-32827a04e323",
   "metadata": {
    "editable": true,
    "slideshow": {
     "slide_type": ""
    },
    "tags": []
   },
   "outputs": [],
   "source": []
  },
  {
   "cell_type": "markdown",
   "id": "8f26af6b-0358-4498-a7e7-c9ffc867a792",
   "metadata": {
    "deletable": false,
    "editable": false,
    "slideshow": {
     "slide_type": ""
    },
    "tags": []
   },
   "source": [
    "### b. \n",
    "\n",
    "$P(X > -0.12)$ "
   ]
  },
  {
   "cell_type": "code",
   "execution_count": null,
   "id": "e39f47f0-18d1-4f36-86bd-fe89f57851f1",
   "metadata": {
    "editable": true,
    "slideshow": {
     "slide_type": ""
    },
    "tags": []
   },
   "outputs": [],
   "source": []
  },
  {
   "cell_type": "markdown",
   "id": "64f06665-38cf-4957-832f-5aa41155a314",
   "metadata": {
    "deletable": false,
    "editable": false,
    "slideshow": {
     "slide_type": ""
    },
    "tags": []
   },
   "source": [
    "### c. \n",
    "\n",
    "$P(0.17 < X \\le 0.43)$"
   ]
  },
  {
   "cell_type": "code",
   "execution_count": null,
   "id": "beb5160c-cf82-4ee5-82e4-7616758f93c5",
   "metadata": {
    "editable": true,
    "slideshow": {
     "slide_type": ""
    },
    "tags": []
   },
   "outputs": [],
   "source": []
  },
  {
   "cell_type": "markdown",
   "id": "8a46bfb2-3762-4a1a-93f2-b7e78b01ade1",
   "metadata": {
    "deletable": false,
    "editable": false,
    "slideshow": {
     "slide_type": ""
    },
    "tags": []
   },
   "source": [
    "### d. \n",
    "\n",
    "The 0.85-quantile of $X$."
   ]
  },
  {
   "cell_type": "code",
   "execution_count": null,
   "id": "a88e3097-9d3f-429d-b655-70169342eba4",
   "metadata": {
    "editable": true,
    "slideshow": {
     "slide_type": ""
    },
    "tags": []
   },
   "outputs": [],
   "source": []
  },
  {
   "cell_type": "markdown",
   "id": "79e11185-4199-407c-802d-61719ce20f5a",
   "metadata": {
    "deletable": false,
    "editable": false,
    "slideshow": {
     "slide_type": ""
    },
    "tags": []
   },
   "source": [
    "## Problem 2\n",
    "\n",
    "In the same folder as this notebook, there is a CSV file `data/HumanTemp.csv`, with three columns/variables: `Temp`, `Sex`, and `Pulse`.\n",
    "\n",
    "Write R code to do the following."
   ]
  },
  {
   "cell_type": "markdown",
   "id": "818b01bc-9c81-4619-8616-b474dd4f3eb3",
   "metadata": {
    "deletable": false,
    "editable": false,
    "slideshow": {
     "slide_type": ""
    },
    "tags": []
   },
   "source": [
    "### a. \n",
    "\n",
    "Find the average of the values in `Temp`. (Read the data first!)"
   ]
  },
  {
   "cell_type": "code",
   "execution_count": null,
   "id": "c2019d48-c4fc-4bc7-af97-ffc7fcbe9589",
   "metadata": {
    "editable": true,
    "slideshow": {
     "slide_type": ""
    },
    "tags": []
   },
   "outputs": [],
   "source": []
  },
  {
   "cell_type": "markdown",
   "id": "7702fd70-fba6-41ee-8cce-9bd348fa3374",
   "metadata": {
    "deletable": false,
    "editable": false,
    "slideshow": {
     "slide_type": ""
    },
    "tags": []
   },
   "source": [
    "### b. \n",
    "\n",
    "Compute the 1st quartile of the values in `Temp`. Do __not__ use `summary()`. "
   ]
  },
  {
   "cell_type": "code",
   "execution_count": null,
   "id": "882ae767-e293-4bd8-8ea7-f1d7f6a31428",
   "metadata": {
    "editable": true,
    "slideshow": {
     "slide_type": ""
    },
    "tags": []
   },
   "outputs": [],
   "source": []
  },
  {
   "cell_type": "markdown",
   "id": "d2371752-93ae-4276-b588-b5e236dd74a2",
   "metadata": {
    "deletable": false,
    "editable": false,
    "slideshow": {
     "slide_type": ""
    },
    "tags": []
   },
   "source": [
    "### c. \n",
    "\n",
    "Create a normal QQ-plot of the values in `Temp`. "
   ]
  },
  {
   "cell_type": "code",
   "execution_count": null,
   "id": "4a9af165-d0ad-4401-b5ec-12370ac82fb7",
   "metadata": {
    "editable": true,
    "slideshow": {
     "slide_type": ""
    },
    "tags": []
   },
   "outputs": [],
   "source": []
  },
  {
   "cell_type": "markdown",
   "id": "6a4ad690-2e2d-4ef0-821f-0f8c99cb8518",
   "metadata": {
    "deletable": false,
    "editable": false,
    "slideshow": {
     "slide_type": ""
    },
    "tags": []
   },
   "source": [
    "### d. \n",
    "\n",
    "Based on your answer to part c, do the values in `Temp` approximately follow a normal distribution?  Explain.\n",
    "\n",
    "Your explanation should be in complete sentences, with correct spelling and grammar. Some tips:\n",
    "\n",
    "- __Be specific.__ For example, if you use pronouns like \"it\" or \"they\", make sure you are clear about what those pronouns refer to.\n",
    "- __Be concise.__ Don't make your explanation longer than necessary. You can answer this question using only one or two sentences."
   ]
  },
  {
   "cell_type": "markdown",
   "id": "a7525c7b-5f03-4f51-bc8f-b1df9489d84d",
   "metadata": {
    "editable": true,
    "slideshow": {
     "slide_type": ""
    },
    "tags": []
   },
   "source": [
    "*Write your answer here. Double-click to edit.*"
   ]
  },
  {
   "cell_type": "markdown",
   "id": "4160f75f-aa04-454f-9d59-fd8c9811004b",
   "metadata": {
    "deletable": false,
    "editable": false,
    "jp-MarkdownHeadingCollapsed": true,
    "slideshow": {
     "slide_type": ""
    },
    "tags": []
   },
   "source": [
    "## Grading rubric\n",
    "    \n",
    "| Problem | Weight |\n",
    "| :-: | :-: |\n",
    "| 1a | 1 |\n",
    "| 1b | 1 |\n",
    "| 1c | 1 | \n",
    "| 1d | 1 |\n",
    "| 2a | 1 | \n",
    "| 2b | 1 | \n",
    "| 2c | 1 | \n",
    "| 2d | 1 |\n",
    "| __Max Score__ | __80__ | "
   ]
  }
 ],
 "metadata": {
  "kernelspec": {
   "display_name": "R",
   "language": "R",
   "name": "ir"
  },
  "language_info": {
   "codemirror_mode": "r",
   "file_extension": ".r",
   "mimetype": "text/x-r-source",
   "name": "R",
   "pygments_lexer": "r",
   "version": "4.3.2"
  }
 },
 "nbformat": 4,
 "nbformat_minor": 5
}
